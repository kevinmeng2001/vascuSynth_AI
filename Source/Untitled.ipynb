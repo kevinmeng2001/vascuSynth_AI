{
 "cells": [
  {
   "cell_type": "code",
   "execution_count": 1,
   "id": "76a695df",
   "metadata": {},
   "outputs": [],
   "source": [
    "import os\n",
    "import re\n",
    "import numpy as np\n",
    "import matplotlib.pyplot as plt"
   ]
  },
  {
   "cell_type": "code",
   "execution_count": 3,
   "id": "fbe11379",
   "metadata": {},
   "outputs": [],
   "source": [
    "os.getcwd()\n",
    "\n",
    "file = open('C:\\\\Users\\\\INOVAIT-VSI\\\\VascuSynth_copy\\\\Tumorous Images\\\\oxMap_0.txt', 'r')"
   ]
  },
  {
   "cell_type": "code",
   "execution_count": 4,
   "id": "8be9b6c8",
   "metadata": {},
   "outputs": [
    {
     "name": "stdout",
     "output_type": "stream",
     "text": [
      "['255', '255', '255', '0', '0', '0', '255', '255', '255', '1', '5', '98', '24', '154', '247', '173']\n"
     ]
    }
   ],
   "source": [
    "a =file.read()\n",
    "\n",
    "b=re.split('\\s', a)[0:16]\n",
    "print(b)"
   ]
  },
  {
   "cell_type": "code",
   "execution_count": 5,
   "id": "64c24273",
   "metadata": {},
   "outputs": [],
   "source": [
    "def sphere_idx(shape, radius, position):\n",
    "    assert len(position) == len(shape)\n",
    "    n = len(shape)\n",
    "    position = np.array(position).reshape((-1,) + (1,) * n)\n",
    "    arr = np.linalg.norm(np.indices(shape) - position, axis=0)\n",
    "    return (arr > radius).astype('int64') # + value (for gradient)"
   ]
  },
  {
   "cell_type": "code",
   "execution_count": 6,
   "id": "e62e1fea",
   "metadata": {},
   "outputs": [
    {
     "name": "stdout",
     "output_type": "stream",
     "text": [
      "(256, 256, 256)\n"
     ]
    }
   ],
   "source": [
    "shape = (int(b[0])+1, int(b[1])+1, int(b[2])+1)\n",
    "print(shape)"
   ]
  },
  {
   "cell_type": "code",
   "execution_count": 28,
   "id": "d48209f3",
   "metadata": {},
   "outputs": [
    {
     "name": "stdout",
     "output_type": "stream",
     "text": [
      "74\n"
     ]
    }
   ],
   "source": [
    "radius = abs(int(b[13]) - int(b[10]))//2\n",
    "\n",
    "print(radius)"
   ]
  },
  {
   "cell_type": "code",
   "execution_count": 29,
   "id": "c6313823",
   "metadata": {},
   "outputs": [
    {
     "data": {
      "text/plain": [
       "0.10117282402183773"
      ]
     },
     "execution_count": 29,
     "metadata": {},
     "output_type": "execute_result"
    }
   ],
   "source": [
    "(4/3 * np.pi * radius**3)/(256*256*256)"
   ]
  },
  {
   "cell_type": "code",
   "execution_count": 31,
   "id": "1cd3f127",
   "metadata": {},
   "outputs": [
    {
     "data": {
      "text/plain": [
       "array([ 79., 172.,  98.])"
      ]
     },
     "execution_count": 31,
     "metadata": {},
     "output_type": "execute_result"
    }
   ],
   "source": [
    "position = np.floor((int(b[10])+radius, int(b[11])+radius, int(b[12])+radius))\n",
    "\n",
    "position"
   ]
  },
  {
   "cell_type": "code",
   "execution_count": 32,
   "id": "6ddca423",
   "metadata": {},
   "outputs": [],
   "source": [
    "arr =sphere_idx(shape, radius, position)"
   ]
  },
  {
   "cell_type": "code",
   "execution_count": 33,
   "id": "534d45f7",
   "metadata": {},
   "outputs": [
    {
     "data": {
      "text/plain": [
       "<matplotlib.image.AxesImage at 0x1db000dc2b0>"
      ]
     },
     "execution_count": 33,
     "metadata": {},
     "output_type": "execute_result"
    },
    {
     "data": {
      "image/png": "[encoded data removed]",
      "text/plain": [
       "<Figure size 432x288 with 1 Axes>"
      ]
     },
     "metadata": {
      "needs_background": "light"
     },
     "output_type": "display_data"
    }
   ],
   "source": [
    "plt.imshow(np.rot90(arr[:,:,int(position[2])],1), cmap='Greys_r')"
   ]
  },
  {
   "cell_type": "code",
   "execution_count": 21,
   "id": "fd0c6395",
   "metadata": {},
   "outputs": [],
   "source": [
    "plt.imsave('asfd.jpg', np.rot90(arr[:,:,int(position[2])],1), cmap='Greys_r')"
   ]
  },
  {
   "cell_type": "code",
   "execution_count": null,
   "id": "ff5d2c9c",
   "metadata": {},
   "outputs": [],
   "source": []
  },
  {
   "cell_type": "code",
   "execution_count": null,
   "id": "2a9f62be",
   "metadata": {},
   "outputs": [],
   "source": []
  },
  {
   "cell_type": "code",
   "execution_count": null,
   "id": "719ff2ba",
   "metadata": {},
   "outputs": [],
   "source": []
  },
  {
   "cell_type": "code",
   "execution_count": null,
   "id": "8aad4419",
   "metadata": {},
   "outputs": [],
   "source": []
  },
  {
   "cell_type": "code",
   "execution_count": null,
   "id": "620b1e1d",
   "metadata": {},
   "outputs": [],
   "source": []
  },
  {
   "cell_type": "code",
   "execution_count": null,
   "id": "7bdce4c7",
   "metadata": {},
   "outputs": [],
   "source": []
  },
  {
   "cell_type": "code",
   "execution_count": null,
   "id": "68ec3187",
   "metadata": {},
   "outputs": [],
   "source": []
  },
  {
   "cell_type": "code",
   "execution_count": null,
   "id": "515e4d3b",
   "metadata": {},
   "outputs": [],
   "source": []
  },
  {
   "cell_type": "code",
   "execution_count": null,
   "id": "da8b0fe1",
   "metadata": {},
   "outputs": [],
   "source": [
    "import os\n",
    "import re\n",
    "import numpy as np"
   ]
  }
 ],
 "metadata": {
  "kernelspec": {
   "display_name": "Python 3 (ipykernel)",
   "language": "python",
   "name": "python3"
  },
  "language_info": {
   "codemirror_mode": {
    "name": "ipython",
    "version": 3
   },
   "file_extension": ".py",
   "mimetype": "text/x-python",
   "name": "python",
   "nbconvert_exporter": "python",
   "pygments_lexer": "ipython3",
   "version": "3.9.12"
  }
 },
 "nbformat": 4,
 "nbformat_minor": 5
}
